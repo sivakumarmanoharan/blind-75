{
 "cells": [
  {
   "cell_type": "code",
   "execution_count": 3,
   "id": "f963753e",
   "metadata": {},
   "outputs": [
    {
     "name": "stdout",
     "output_type": "stream",
     "text": [
      "Enter a stringabcd\n",
      "Enter a stringabcd\n",
      "aabbccdd\n"
     ]
    }
   ],
   "source": [
    "# Merge Alternative strings:\n",
    "# I/P: String1=\"abcd\", String2=\"pqr\"\n",
    "# O/P: \"apbqcrd\"\n",
    "\n",
    "def mergeAlternatively(s1,s2):\n",
    "    new_str,i,j=\"\",0,0\n",
    "    while i<len(s1) and j<len(s2):\n",
    "        new_str+=s1[i]+s2[j]\n",
    "        i+=1\n",
    "        j+=1\n",
    "    new_str+=s1[i:]+s2[j:]\n",
    "    return new_str\n",
    "\n",
    "if __name__==\"__main__\":\n",
    "    s1=input(\"Enter a string\")\n",
    "    s2=input(\"Enter a string\")\n",
    "    print(mergeAlternatively(s1,s2))"
   ]
  },
  {
   "cell_type": "code",
   "execution_count": 4,
   "id": "252de5b5",
   "metadata": {},
   "outputs": [
    {
     "name": "stdout",
     "output_type": "stream",
     "text": [
      "Enter a stringABCABC\n",
      "Enter a stringABC\n",
      "ABC\n"
     ]
    }
   ],
   "source": [
    "# GCD of two strings\n",
    "# I/P: String1:\"ABCABC\", String2:\"ABC\"\n",
    "# O/P: \"ABC\"\n",
    "import math\n",
    "def gcdTwoStrings(s1,s2):\n",
    "    if s1+s2==s2+s1:\n",
    "        return s1[:math.gcd(len(s1),len(s2))]\n",
    "    else:\n",
    "        return \"\"\n",
    "\n",
    "if __name__==\"__main__\":\n",
    "    s1=input(\"Enter a string\")\n",
    "    s2=input(\"Enter a string\")\n",
    "    print(gcdTwoStrings(s1,s2))"
   ]
  },
  {
   "cell_type": "code",
   "execution_count": 7,
   "id": "d89d2bc0",
   "metadata": {},
   "outputs": [
    {
     "name": "stdout",
     "output_type": "stream",
     "text": [
      "2 3 5 1 3\n",
      "Enter the number of candies3\n",
      "[True, True, True, False, True]\n"
     ]
    }
   ],
   "source": [
    "# Kids with greatest number of candies:\n",
    "# I/P: candies=[2,3,5,1,3] extra=3\n",
    "# O/P: [true, true,true, false, true]\n",
    "\n",
    "def greatestNumberCandies(candies, extraCandies):\n",
    "    bool_arr=[]\n",
    "    for i in candies:\n",
    "        if i+extraCandies>=max(candies):\n",
    "            bool_arr.append(True)\n",
    "        else:\n",
    "            bool_arr.append(False)\n",
    "    return bool_arr\n",
    "\n",
    "if __name__==\"__main__\":\n",
    "    candies=list(map(int,input().split(\" \")))\n",
    "    extraCandies=int(input(\"Enter the number of candies\"))\n",
    "    print(greatestNumberCandies(candies,extraCandies))"
   ]
  },
  {
   "cell_type": "code",
   "execution_count": 9,
   "id": "11454263",
   "metadata": {},
   "outputs": [
    {
     "name": "stdout",
     "output_type": "stream",
     "text": [
      "1 0 0 0 1\n",
      "Enter the number of flowers1\n",
      "True\n"
     ]
    }
   ],
   "source": [
    "# Able to plant flowers or not on a flowerbed\n",
    "# I/P: flowerbed=[1,0,0,0,1], n=1 (1 represents planted and 0 is the reverse)\n",
    "# O/P: True\n",
    "\n",
    "def flowerBedPlantable(flowerbed,n):\n",
    "    if n==0:\n",
    "        return True\n",
    "    else:\n",
    "        for i in range(len(flowerbed)):\n",
    "            if flowerbed[i]==0 and (i==0 or flowerbed[i-1]==0) and (i==len(flowerbed)-1 or flowerbed[i+1]==0):\n",
    "                flowerbed[i]=1\n",
    "                n-=1\n",
    "                if n==0:\n",
    "                    return True\n",
    "        return False\n",
    "    \n",
    "if __name__==\"__main__\":\n",
    "    flowerbed=list(map(int,input().split(\" \")))\n",
    "    flowers=int(input(\"Enter the number of flowers\"))\n",
    "    print(flowerBedPlantable(flowerbed,flowers))"
   ]
  },
  {
   "cell_type": "code",
   "execution_count": 11,
   "id": "d2c52d53",
   "metadata": {},
   "outputs": [
    {
     "name": "stdout",
     "output_type": "stream",
     "text": [
      "Enter a stringHello\n",
      "Holle\n"
     ]
    }
   ],
   "source": [
    "# Reverse the vowels\n",
    "# I/P: \"Hello\"\n",
    "# O/P: \"Holle\"\n",
    "\n",
    "def reverseVowels(s1):\n",
    "    vowels=['a','e','i','o','u','A','E','I','O','U']\n",
    "    l=0\n",
    "    r=len(s1)-1\n",
    "    s1=list(s1)\n",
    "    while l<r:\n",
    "        if s1[l] not in vowels:\n",
    "            l+=1\n",
    "        elif s1[r] not in vowels:\n",
    "            r-=1\n",
    "        else:\n",
    "            s1[l],s1[r]=s1[r],s1[l]\n",
    "            l+=1\n",
    "            r-=1\n",
    "    return \"\".join(s1)\n",
    "\n",
    "if __name__==\"__main__\":\n",
    "    str=input(\"Enter a string\")\n",
    "    print(reverseVowels(str))"
   ]
  },
  {
   "cell_type": "code",
   "execution_count": null,
   "id": "aa0f9e6a",
   "metadata": {},
   "outputs": [],
   "source": []
  }
 ],
 "metadata": {
  "kernelspec": {
   "display_name": "Python 3 (ipykernel)",
   "language": "python",
   "name": "python3"
  },
  "language_info": {
   "codemirror_mode": {
    "name": "ipython",
    "version": 3
   },
   "file_extension": ".py",
   "mimetype": "text/x-python",
   "name": "python",
   "nbconvert_exporter": "python",
   "pygments_lexer": "ipython3",
   "version": "3.11.5"
  }
 },
 "nbformat": 4,
 "nbformat_minor": 5
}
